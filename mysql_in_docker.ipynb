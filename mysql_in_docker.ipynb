{
 "cells": [
  {
   "cell_type": "markdown",
   "metadata": {},
   "source": [
    "### mysql docker 테스트\n",
    "> mysql 사용법의 구체적인 부분은 별도 강의인 **SQL/DB(MySQL) 기본과 활용** 를 참고하시면 좋을 것 같습니다. <br>\n",
    "> 여기서는 간략히 파이썬으로 mysql docker 를 사용하는 부분에 대한 코드를 사용해서, 테스트만 진행합니다."
   ]
  },
  {
   "cell_type": "markdown",
   "metadata": {},
   "source": [
    "##### 0. pymysql 라이브러리 설치하기"
   ]
  },
  {
   "cell_type": "code",
   "execution_count": 1,
   "metadata": {},
   "outputs": [
    {
     "name": "stdout",
     "output_type": "stream",
     "text": [
      "Requirement already satisfied: pymysql in /opt/anaconda3/lib/python3.7/site-packages (0.9.3)\r\n"
     ]
    }
   ],
   "source": [
    "!pip install pymysql"
   ]
  },
  {
   "cell_type": "markdown",
   "metadata": {},
   "source": [
    "##### 1. 라이브러리 가져오기"
   ]
  },
  {
   "cell_type": "code",
   "execution_count": 3,
   "metadata": {},
   "outputs": [],
   "source": [
    "import pymysql"
   ]
  },
  {
   "cell_type": "markdown",
   "metadata": {},
   "source": [
    "##### 2. 접속하기"
   ]
  },
  {
   "cell_type": "code",
   "execution_count": 4,
   "metadata": {},
   "outputs": [],
   "source": [
    "db = pymysql.connect(\n",
    "    host='localhost', \n",
    "    port=3307, \n",
    "    user='root', \n",
    "    passwd='funcoding', \n",
    "    db='davedb', \n",
    "    charset='utf8')"
   ]
  },
  {
   "cell_type": "markdown",
   "metadata": {},
   "source": [
    "##### 3. 커서 가져오기"
   ]
  },
  {
   "cell_type": "code",
   "execution_count": 5,
   "metadata": {},
   "outputs": [],
   "source": [
    "cursor = db.cursor()"
   ]
  },
  {
   "cell_type": "markdown",
   "metadata": {},
   "source": [
    "##### 4. SQL 구문 만들기 (CRUD SQL 구문 등)"
   ]
  },
  {
   "cell_type": "code",
   "execution_count": null,
   "metadata": {},
   "outputs": [],
   "source": [
    "sql = '''\n",
    "    CREATE TABLE product (\n",
    "        PRODUCT_CODE VARCHAR(20) NOT NULL,\n",
    "        TITLE VARCHAR(200) NOT NULL,\n",
    "        ORI_PRICE INT,\n",
    "        DISCOUNT_PRICE INT,\n",
    "        DISCOUNT_PERCENT INT,\n",
    "        DELIVERY VARCHAR(2),\n",
    "        PRIMARY KEY(PRODUCT_CODE)\n",
    "    );\n",
    "'''"
   ]
  },
  {
   "cell_type": "markdown",
   "metadata": {},
   "source": [
    "##### 5. SQL 구문 실행하기"
   ]
  },
  {
   "cell_type": "code",
   "execution_count": null,
   "metadata": {},
   "outputs": [],
   "source": [
    "cursor.execute(sql)"
   ]
  },
  {
   "cell_type": "markdown",
   "metadata": {},
   "source": [
    "##### 6. DB에 Complete 하기"
   ]
  },
  {
   "cell_type": "code",
   "execution_count": null,
   "metadata": {},
   "outputs": [],
   "source": [
    "db.commit()"
   ]
  },
  {
   "cell_type": "markdown",
   "metadata": {},
   "source": [
    "##### 7. DB 연결 닫기"
   ]
  },
  {
   "cell_type": "code",
   "execution_count": null,
   "metadata": {},
   "outputs": [],
   "source": [
    "db.close()"
   ]
  },
  {
   "cell_type": "markdown",
   "metadata": {},
   "source": [
    "##### 8. 테이블 확인하기\n",
    "1. 다음 코드 실행 후, product 테이블이 있는지 확인하기\n",
    "2. 터미널에서 이미지/컨테이너 삭제 후, 다시 이미지/컨테이너 생성하기\n",
    "```bash\n",
    "docker stop $(docker ps -a -q)\n",
    "docker rm $(docker ps -a -q)\n",
    "docker rmi -f $(docker images -q)\n",
    "docker build --tag mysqldb -f Dockerfile_MYSQL .\n",
    "docker run -d -p 3307:3306 --name mydb -v \"각자의PC폴더\":/var/lib/mysql mysqldb\n",
    "```\n",
    "\n",
    "3. 다시 다음 코드 실행헤서, product 테이블이 계속 있는지 확인하기\n"
   ]
  },
  {
   "cell_type": "code",
   "execution_count": 6,
   "metadata": {},
   "outputs": [
    {
     "name": "stdout",
     "output_type": "stream",
     "text": [
      "('product',)\n"
     ]
    }
   ],
   "source": [
    "import pymysql\n",
    "\n",
    "db = pymysql.connect(\n",
    "    host='localhost', \n",
    "    port=3307, \n",
    "    user='root', \n",
    "    passwd='funcoding', \n",
    "    db='davedb', \n",
    "    charset='utf8')\n",
    "\n",
    "cursor = db.cursor()\n",
    "\n",
    "sql = '''\n",
    "    SHOW TABLES;\n",
    "'''\n",
    "cursor.execute(sql)\n",
    "result = cursor.fetchone()\n",
    "print(result)\n",
    "db.close()"
   ]
  },
  {
   "cell_type": "code",
   "execution_count": null,
   "metadata": {},
   "outputs": [],
   "source": []
  },
  {
   "cell_type": "markdown",
   "metadata": {},
   "source": [
    "### mysql docker 에 접속하기"
   ]
  },
  {
   "cell_type": "markdown",
   "metadata": {},
   "source": [
    "#### 테이블 확인하기 코드\n",
    "- 기존 코드에서\n",
    "  - host 를 mysqldb (docker run 시 --link 옵션으로 설정한 컨테이너를 가리킬 이름) 로 바꾸고, \n",
    "  - port 를 3306 으로 변경한 것임 (docker run 시 호스트 PC 포트가 아니라, mysqldb 컨테이너에서 오픈한 포트)"
   ]
  },
  {
   "cell_type": "code",
   "execution_count": 12,
   "metadata": {},
   "outputs": [
    {
     "name": "stdout",
     "output_type": "stream",
     "text": [
      "('product',)\n"
     ]
    }
   ],
   "source": [
    "import pymysql\n",
    "\n",
    "db = pymysql.connect(\n",
    "    host='mysqldb', \n",
    "    port=3306, \n",
    "    user='root', \n",
    "    passwd='funcoding', \n",
    "    db='davedb', \n",
    "    charset='utf8')\n",
    "\n",
    "cursor = db.cursor()\n",
    "\n",
    "sql = '''\n",
    "    SHOW TABLES;\n",
    "'''\n",
    "cursor.execute(sql)\n",
    "result = cursor.fetchone()\n",
    "print(result)\n",
    "db.close()"
   ]
  },
  {
   "cell_type": "code",
   "execution_count": null,
   "metadata": {},
   "outputs": [],
   "source": []
  }
 ],
 "metadata": {
  "kernelspec": {
   "display_name": "Python 3",
   "language": "python",
   "name": "python3"
  },
  "language_info": {
   "codemirror_mode": {
    "name": "ipython",
    "version": 3
   },
   "file_extension": ".py",
   "mimetype": "text/x-python",
   "name": "python",
   "nbconvert_exporter": "python",
   "pygments_lexer": "ipython3",
   "version": "3.7.7"
  }
 },
 "nbformat": 4,
 "nbformat_minor": 4
}
